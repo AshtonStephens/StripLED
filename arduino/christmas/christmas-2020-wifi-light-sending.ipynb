{
 "cells": [
  {
   "cell_type": "markdown",
   "metadata": {},
   "source": [
    "# Light Sending Christmas Program\n",
    "### By: Ashton and Adrian Stephens"
   ]
  },
  {
   "cell_type": "markdown",
   "metadata": {},
   "source": [
    "## Setup and Helper Functions"
   ]
  },
  {
   "cell_type": "code",
   "execution_count": 2,
   "metadata": {},
   "outputs": [],
   "source": [
    "# imports\n",
    "import socket\n",
    "import time"
   ]
  },
  {
   "cell_type": "code",
   "execution_count": 3,
   "metadata": {},
   "outputs": [],
   "source": [
    "def to_hex(length, number, max_number):\n",
    "    format_string = '{:0'+ str(length) +'x}'\n",
    "    return format_string.format(abs(number)%(max_number))\n",
    "    \n",
    "def simple_variable_conversion(v, letter):\n",
    "    return ['{}_{}'.format(letter, to_hex(4, v[letter], 1024))] if letter in v else []\n",
    "    \n",
    "def list_variable_conversion(v, letter):\n",
    "    return ['{}{}{}'.format(letter, to_hex(1, i, 16), to_hex(4, value, 65535)) \n",
    "            for i, value in enumerate(v[letter]) if value != 0] if letter in v else []\n",
    "\n",
    "def flatten(l):\n",
    "    return [a for b in l for a in b]\n",
    "    \n",
    "def string_variable_list(v):\n",
    "    return flatten([simple_variable_conversion(v, 'p'),\n",
    "        simple_variable_conversion(v, 'b'),\n",
    "        simple_variable_conversion(v, 'h'),\n",
    "        simple_variable_conversion(v, 's'),\n",
    "        simple_variable_conversion(v, 'v'),\n",
    "        list_variable_conversion(v, 'm')])"
   ]
  },
  {
   "cell_type": "markdown",
   "metadata": {},
   "source": [
    "## Wifi Connection"
   ]
  },
  {
   "cell_type": "code",
   "execution_count": 4,
   "metadata": {},
   "outputs": [],
   "source": [
    "def send_data (ip, port, data):\n",
    "    s = socket.socket(socket.AF_INET, socket.SOCK_STREAM)\n",
    "    print('connecting to host {} port {}'.format(ip, port))\n",
    "    \n",
    "    while True:\n",
    "        try:\n",
    "            s.connect((ip, port))\n",
    "            print('successfully connected')\n",
    "            break\n",
    "        except ConnectionRefusedError:\n",
    "            print('-',end='',flush=True)\n",
    "            time.sleep(1)\n",
    "    \n",
    "    s.send(data) \n",
    "    s.close()\n",
    "    # sleep to make sure this is sent before doing anything else\n",
    "    time.sleep(0.1)"
   ]
  },
  {
   "cell_type": "code",
   "execution_count": 5,
   "metadata": {},
   "outputs": [],
   "source": [
    "def send_preset(led_variables):\n",
    "    ''' Simplifies sending a dictionary of variables to the circuit.'''\n",
    "    send_data(ip_address, port, ''.join(string_variable_list(led_variables)).encode())"
   ]
  },
  {
   "cell_type": "markdown",
   "metadata": {},
   "source": [
    "## Values and Information"
   ]
  },
  {
   "cell_type": "code",
   "execution_count": 6,
   "metadata": {},
   "outputs": [],
   "source": [
    "ip_address = \"192.168.1.22\"\n",
    "port = 12345"
   ]
  },
  {
   "cell_type": "code",
   "execution_count": 7,
   "metadata": {},
   "outputs": [
    {
     "name": "stdout",
     "output_type": "stream",
     "text": [
      "connecting to host 192.168.1.22 port 12345\n",
      "successfully connected\n"
     ]
    }
   ],
   "source": [
    "christmas_perlin = {\n",
    "    'p': 8,\n",
    "    'b': 255, # probably keep this\n",
    "    'h': 170,\n",
    "    's': 255, # probably keep this\n",
    "    'v': 120, # probably keep this\n",
    "    \n",
    "    'm': [\n",
    "        #rate,min,max,num\n",
    "        300, 10, 105, 15,  # hues\n",
    "        500, 230,235, 5,   # saturation\n",
    "        500, 1,  100, 10,  # values\n",
    "    ]\n",
    "}\n",
    "\n",
    "send_preset(christmas_perlin)"
   ]
  },
  {
   "cell_type": "code",
   "execution_count": 8,
   "metadata": {},
   "outputs": [
    {
     "name": "stdout",
     "output_type": "stream",
     "text": [
      "connecting to host 192.168.1.22 port 12345\n",
      "successfully connected\n"
     ]
    }
   ],
   "source": [
    "light_sparkles = {\n",
    "    'p': 3,\n",
    "    'b': 255, # probably keep this\n",
    "    'h': 85,\n",
    "    's': 128,\n",
    "    'v': 120, # probably keep this\n",
    "    \n",
    "    'm': [\n",
    "        200, # num lights\n",
    "        2000, # speed\n",
    "        0, # hue\n",
    "    ]\n",
    "}\n",
    "\n",
    "send_preset(light_sparkles)"
   ]
  },
  {
   "cell_type": "code",
   "execution_count": 19,
   "metadata": {},
   "outputs": [
    {
     "name": "stdout",
     "output_type": "stream",
     "text": [
      "connecting to host 192.168.1.22 port 12345\n",
      "successfully connected\n"
     ]
    }
   ],
   "source": [
    "light_sparkles = {\n",
    "    'p': 3,\n",
    "    'b': 64, #robably keep this\n",
    "    'h': 32,\n",
    "    's': 192,\n",
    "    'v': 255,\n",
    "    \n",
    "    'm': [\n",
    "        200,    # num lights\n",
    "        2000,   # speed\n",
    "        8,      # hue\n",
    "    ]\n",
    "}\n",
    "\n",
    "send_preset(light_sparkles)"
   ]
  },
  {
   "cell_type": "code",
   "execution_count": 11,
   "metadata": {},
   "outputs": [
    {
     "name": "stdout",
     "output_type": "stream",
     "text": [
      "connecting to host 192.168.1.9 port 12345\n",
      "successfully connected\n"
     ]
    }
   ],
   "source": [
    "send_preset({'p':0, 'h':170, 's':128, 'v':64})"
   ]
  },
  {
   "cell_type": "markdown",
   "metadata": {},
   "source": [
    "## White"
   ]
  },
  {
   "cell_type": "code",
   "execution_count": 140,
   "metadata": {},
   "outputs": [
    {
     "name": "stdout",
     "output_type": "stream",
     "text": [
      "connecting to host 192.168.1.9 port 12345\n",
      "successfully connected\n"
     ]
    }
   ],
   "source": [
    "send_preset({'p':9, 'b':64, 'h':100, 's':160, 'v':128})"
   ]
  },
  {
   "cell_type": "code",
   "execution_count": 44,
   "metadata": {},
   "outputs": [
    {
     "name": "stdout",
     "output_type": "stream",
     "text": [
      "connecting to host 192.168.1.9 port 12345\n",
      "successfully connected\n"
     ]
    }
   ],
   "source": [
    "send_preset({'p':5, 'b':64, 'h':32, 's':255, 'v':128})"
   ]
  },
  {
   "attachments": {},
   "cell_type": "markdown",
   "metadata": {},
   "source": [
    "Block"
   ]
  },
  {
   "cell_type": "code",
   "execution_count": 9,
   "metadata": {},
   "outputs": [
    {
     "name": "stdout",
     "output_type": "stream",
     "text": [
      "connecting to host 192.168.1.22 port 12345\n",
      "successfully connected\n"
     ]
    }
   ],
   "source": [
    "send_preset({'p':4, 'b':64, 'h':100, 's':160, 'v':255, 'm':[100,22]})"
   ]
  },
  {
   "cell_type": "code",
   "execution_count": 45,
   "metadata": {},
   "outputs": [
    {
     "name": "stdout",
     "output_type": "stream",
     "text": [
      "connecting to host 192.168.1.9 port 12345\n",
      "successfully connected\n"
     ]
    }
   ],
   "source": [
    "_c = 300/256\n",
    "send_preset({'p':4, 'b':64, 'h':100, 's':160, 'v':255, 'm':[24,12+12]})"
   ]
  },
  {
   "cell_type": "code",
   "execution_count": 10,
   "metadata": {},
   "outputs": [
    {
     "name": "stdout",
     "output_type": "stream",
     "text": [
      "connecting to host 192.168.1.22 port 12345\n",
      "successfully connected\n"
     ]
    }
   ],
   "source": [
    "def highlightLedSection(first, last):\n",
    "    widthValue = int((last - first) * 8)\n",
    "    posValue = int(first / 600 * 1024)\n",
    "    send_preset({'p':4, 'b':64, 'h':100, 's':160, 'v':255, 'm':[widthValue, posValue]})\n",
    "\n",
    "highlightLedSection(100, 200)"
   ]
  },
  {
   "cell_type": "code",
   "execution_count": 18,
   "metadata": {},
   "outputs": [
    {
     "name": "stdout",
     "output_type": "stream",
     "text": [
      "connecting to host 192.168.1.22 port 12345\n",
      "successfully connected\n"
     ]
    }
   ],
   "source": [
    "halloween_sparkles = {\n",
    "    'p': 3,\n",
    "    'b': 64, #robably keep this\n",
    "    'h': 180,\n",
    "    's': 255,\n",
    "    'v': 255,\n",
    "    \n",
    "    'm': [\n",
    "        200,    # num lights\n",
    "        2000,   # speed\n",
    "        8,      # hue\n",
    "    ]\n",
    "}\n",
    "\n",
    "send_preset(halloween_sparkles)"
   ]
  },
  {
   "cell_type": "code",
   "execution_count": null,
   "metadata": {},
   "outputs": [],
   "source": []
  }
 ],
 "metadata": {
  "interpreter": {
   "hash": "2af013a990acdf7838520a4f080d38bf0267c1ccce033db15086b82db1de178b"
  },
  "kernelspec": {
   "display_name": "Python 3.10.2 64-bit",
   "language": "python",
   "name": "python3"
  },
  "language_info": {
   "codemirror_mode": {
    "name": "ipython",
    "version": 3
   },
   "file_extension": ".py",
   "mimetype": "text/x-python",
   "name": "python",
   "nbconvert_exporter": "python",
   "pygments_lexer": "ipython3",
   "version": "3.10.2"
  }
 },
 "nbformat": 4,
 "nbformat_minor": 2
}
